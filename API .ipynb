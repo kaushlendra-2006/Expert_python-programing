{
 "cells": [
  {
   "cell_type": "code",
   "execution_count": 13,
   "id": "942cc873-d02f-427c-9620-2acce54610c0",
   "metadata": {},
   "outputs": [
    {
     "name": "stdout",
     "output_type": "stream",
     "text": [
      "Requirement already satisfied: flask in c:\\users\\91846\\anaconda3\\lib\\site-packages (3.0.3)\n",
      "Requirement already satisfied: ngrok in c:\\users\\91846\\anaconda3\\lib\\site-packages (1.4.0)\n",
      "Requirement already satisfied: Werkzeug>=3.0.0 in c:\\users\\91846\\anaconda3\\lib\\site-packages (from flask) (3.0.3)\n",
      "Requirement already satisfied: Jinja2>=3.1.2 in c:\\users\\91846\\anaconda3\\lib\\site-packages (from flask) (3.1.4)\n",
      "Requirement already satisfied: itsdangerous>=2.1.2 in c:\\users\\91846\\anaconda3\\lib\\site-packages (from flask) (2.2.0)\n",
      "Requirement already satisfied: click>=8.1.3 in c:\\users\\91846\\anaconda3\\lib\\site-packages (from flask) (8.1.7)\n",
      "Requirement already satisfied: blinker>=1.6.2 in c:\\users\\91846\\anaconda3\\lib\\site-packages (from flask) (1.6.2)\n",
      "Requirement already satisfied: colorama in c:\\users\\91846\\anaconda3\\lib\\site-packages (from click>=8.1.3->flask) (0.4.6)\n",
      "Requirement already satisfied: MarkupSafe>=2.0 in c:\\users\\91846\\anaconda3\\lib\\site-packages (from Jinja2>=3.1.2->flask) (2.1.3)\n"
     ]
    }
   ],
   "source": [
    "!pip install flask ngrok"
   ]
  },
  {
   "cell_type": "code",
   "execution_count": 24,
   "id": "609b5bba-b8c9-4275-a637-1234077b071b",
   "metadata": {},
   "outputs": [
    {
     "name": "stdout",
     "output_type": "stream",
     "text": [
      " * Serving Flask app '__main__'\n",
      " * Debug mode: off\n"
     ]
    },
    {
     "name": "stderr",
     "output_type": "stream",
     "text": [
      "WARNING: This is a development server. Do not use it in a production deployment. Use a production WSGI server instead.\n",
      " * Running on http://127.0.0.1:5000\n",
      "Press CTRL+C to quit\n"
     ]
    }
   ],
   "source": [
    "# import necessary libraries\n",
    "from flask import Flask, jsonify,request \n",
    "import threading\n",
    "app=Flask(__name__)\n",
    "@app.route('/')\n",
    "def home():\n",
    "  return \"welcome to my Flask API running\"\n",
    "@app.route('/api/greet',methods=['GET'])\n",
    "def greet():\n",
    "  name = request.args.get('name','guest')  \n",
    "  return jsonify({\"message\":f\"Hello,{name}!\"})\n",
    "@app.route('/api/sum',methods=['POST']) \n",
    "def add():\n",
    "  data = request.get_json(force=True)\n",
    "  try:\n",
    "    a=float(data.get('a',0))\n",
    "    b=float(data.get('b',0)) \n",
    "    # return the result as a json respon\n",
    "    return jsonify({\"result\":a+b})\n",
    "  except:\n",
    "    return jsonify({\"error\":\"Invalid input\"}),400\n",
    "def run_app():\n",
    "  app.run(port=5000)\n",
    "thread = threading.Thread(target=run_app)\n",
    "thread.start()"
   ]
  },
  {
   "cell_type": "code",
   "execution_count": null,
   "id": "2f89165a-f1a4-4347-885d-4c3c37cb7bff",
   "metadata": {},
   "outputs": [],
   "source": []
  },
  {
   "cell_type": "code",
   "execution_count": null,
   "id": "41f1f834-da54-4bc5-8226-fe894961ccac",
   "metadata": {},
   "outputs": [],
   "source": []
  },
  {
   "cell_type": "code",
   "execution_count": null,
   "id": "b0ad9c72-5c1d-40a3-8084-a1945a51e074",
   "metadata": {},
   "outputs": [],
   "source": []
  },
  {
   "cell_type": "code",
   "execution_count": null,
   "id": "e02a37bb-68d3-44d7-88fa-8e015db2f951",
   "metadata": {},
   "outputs": [],
   "source": []
  }
 ],
 "metadata": {
  "kernelspec": {
   "display_name": "Python 3 (ipykernel)",
   "language": "python",
   "name": "python3"
  },
  "language_info": {
   "codemirror_mode": {
    "name": "ipython",
    "version": 3
   },
   "file_extension": ".py",
   "mimetype": "text/x-python",
   "name": "python",
   "nbconvert_exporter": "python",
   "pygments_lexer": "ipython3",
   "version": "3.12.4"
  }
 },
 "nbformat": 4,
 "nbformat_minor": 5
}
