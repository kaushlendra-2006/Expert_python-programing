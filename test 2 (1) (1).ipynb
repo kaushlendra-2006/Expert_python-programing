{
 "cells": [
  {
   "cell_type": "markdown",
   "id": "b3b9c390-6623-411b-9c98-853f516fa10d",
   "metadata": {},
   "source": [
    "Create a BankAccount class with a private balance variable. Provide methods to deposit and withdraw."
   ]
  },
  {
   "cell_type": "code",
   "execution_count": 23,
   "id": "71d71c6f-b643-4860-80a2-8b61a00b16ee",
   "metadata": {},
   "outputs": [
    {
     "name": "stdout",
     "output_type": "stream",
     "text": [
      "Deposited price is 20k\n",
      "\n",
      "Witfdrwal price is 55k\n"
     ]
    }
   ],
   "source": [
    "class bankaccount:\n",
    "    def __init__(self,balance,withdraw,deposit):\n",
    "        self.withdraw=withdraw\n",
    "        self.deposit=deposit\n",
    "    def insert(self):\n",
    "        print(f\"Deposited price is {self.deposit}\\n\")\n",
    "    def take(self):\n",
    "        print(f\"Witfdrwal price is {self.withdraw}\")\n",
    "a=bankaccount(\"34k\",\"55k\",\"20k\")\n",
    "a.insert()\n",
    "a.take()"
   ]
  },
  {
   "cell_type": "code",
   "execution_count": 95,
   "id": "8fde2bfb-c684-4e24-a1c4-dda0590351f6",
   "metadata": {},
   "outputs": [
    {
     "name": "stdout",
     "output_type": "stream",
     "text": [
      "Depositing amount is 10000\n",
      "Withdrawl amount is 20000\n",
      "Check balance is 545000\n"
     ]
    }
   ],
   "source": [
    "class BankAccount:\n",
    "    def __init__(self,balance):\n",
    "        self.balance=balance\n",
    "class new(BankAccount):\n",
    "    def __init__(self,balance,withdraw,deposit):\n",
    "        super().__init__(balance)\n",
    "        self.withdraw=withdraw\n",
    "        self.deposit=deposit\n",
    "    def check(self):\n",
    "        print(f\"Check balance is {self.balance+self.deposit-self.withdraw}\" )\n",
    "    def take(self):\n",
    "        print(f\"Withdrawl amount is {self.withdraw}\")\n",
    "    def insert(self):\n",
    "        print(f\"Depositing amount is {self.deposit}\")\n",
    "a= new(555000,20000,10000)\n",
    "b= new(250000,34000,2040)\n",
    "a.insert()\n",
    "a.take()\n",
    "a.check()"
   ]
  },
  {
   "cell_type": "markdown",
   "id": "1cd7bb5c-4162-4f20-b632-79f10ff40b03",
   "metadata": {},
   "source": [
    "Create a Calculator class with a method multiply() that works for both one and two arguments."
   ]
  },
  {
   "cell_type": "code",
   "execution_count": 31,
   "id": "ea49d39c-8790-4073-b9e7-abe0255c6504",
   "metadata": {},
   "outputs": [
    {
     "name": "stdout",
     "output_type": "stream",
     "text": [
      "8\n"
     ]
    }
   ],
   "source": [
    "class calculator:\n",
    "    def __init__(self,no1,no2):\n",
    "        self.no1=no1\n",
    "        self.no2=no2\n",
    "    def multiply(self):\n",
    "        print(f\"{self.no1*self.no2}\")\n",
    "a=calculator(2,4)\n",
    "a.multiply()"
   ]
  },
  {
   "cell_type": "markdown",
   "id": "b04a9c83-dafd-442c-a47e-79ef5aa4f39c",
   "metadata": {},
   "source": [
    "Create an Employee class with name, salary, and a method display(). Keep track of the total number of employees."
   ]
  },
  {
   "cell_type": "code",
   "execution_count": 35,
   "id": "d4fc7070-d441-4e02-a991-ed2b53e084ed",
   "metadata": {},
   "outputs": [
    {
     "name": "stdout",
     "output_type": "stream",
     "text": [
      "name isAman and salary is 25lpa\n",
      "\n",
      "Total no of employees are45\n"
     ]
    }
   ],
   "source": [
    "class Employee:\n",
    "    def __init__(self,name,salary,employees):\n",
    "        self.name=name\n",
    "        self.salary=salary=salary\n",
    "        self.employees=employees\n",
    "    def display(self):\n",
    "        print(f\"name is{self.name} and salary is {self.salary}\\n\")\n",
    "    def total(self):\n",
    "        print(f\"Total no of employees are{self.employees}\")\n",
    "a=Employee(\"Aman\",\"25lpa\",45)\n",
    "a.display()\n",
    "a.total()"
   ]
  },
  {
   "cell_type": "markdown",
   "id": "ca30819e-5f44-4484-aff2-47f5d6422a63",
   "metadata": {},
   "source": [
    "Create two parent classes, Father and Mother, with methods father_traits() and mother_traits(). Create a Child class that inherits from both."
   ]
  },
  {
   "cell_type": "code",
   "execution_count": 49,
   "id": "d7741e7c-b838-4f4c-95b9-8b3f4351e0b5",
   "metadata": {},
   "outputs": [
    {
     "name": "stdout",
     "output_type": "stream",
     "text": [
      "Father traits is Height\n",
      "\n",
      "Mother traits is Colour\n"
     ]
    }
   ],
   "source": [
    "class Father():\n",
    "    def __init__(self,father_traits):\n",
    "        self.father_traits=father_traits\n",
    "class Mother():\n",
    "    def __init__(self,mother_traits):\n",
    "        self.mother_traits=mother_traits\n",
    "class child(Father):\n",
    "    def __init__(self,father_traits):\n",
    "        super().__init__(father_traits)\n",
    "    def high(self):\n",
    "        print(f\"Father traits is {self.father_traits}\\n\")\n",
    "class Child(Mother):\n",
    "    def __init__(self,mother_traits):\n",
    "        super().__init__(mother_traits)\n",
    "    def low(self):\n",
    "        print(f\"Mother traits is {self.mother_traits}\")\n",
    "x=child(\"Height\")\n",
    "x.high()\n",
    "y=Child(\"Colour\")\n",
    "y.low()"
   ]
  },
  {
   "cell_type": "code",
   "execution_count": 93,
   "id": "0a8c288d-f812-4793-9ed7-492a3401134f",
   "metadata": {},
   "outputs": [
    {
     "name": "stdout",
     "output_type": "stream",
     "text": [
      "Father traits is Height\n",
      "Mother traits is Colour\n"
     ]
    }
   ],
   "source": [
    "class Father():\n",
    "    def father(self):\n",
    "        print(f\"Father traits is Height\")\n",
    "class Mother():\n",
    "    def mother(self):\n",
    "        print(f\"Mother traits is Colour\")\n",
    "class Child(Father,Mother):\n",
    "    def child(self):\n",
    "        return\n",
    "x=Child()\n",
    "x.father()\n",
    "x.mother()"
   ]
  },
  {
   "cell_type": "code",
   "execution_count": null,
   "id": "72e0e0a8-b9ce-4693-842f-0ec7481bfb61",
   "metadata": {},
   "outputs": [],
   "source": []
  }
 ],
 "metadata": {
  "kernelspec": {
   "display_name": "Python 3 (ipykernel)",
   "language": "python",
   "name": "python3"
  },
  "language_info": {
   "codemirror_mode": {
    "name": "ipython",
    "version": 3
   },
   "file_extension": ".py",
   "mimetype": "text/x-python",
   "name": "python",
   "nbconvert_exporter": "python",
   "pygments_lexer": "ipython3",
   "version": "3.12.4"
  }
 },
 "nbformat": 4,
 "nbformat_minor": 5
}
